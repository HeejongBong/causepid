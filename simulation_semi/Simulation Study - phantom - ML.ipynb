{
 "cells": [
  {
   "cell_type": "code",
   "execution_count": 36,
   "id": "d05c7934",
   "metadata": {},
   "outputs": [],
   "source": [
    "import os, importlib, sys, time"
   ]
  },
  {
   "cell_type": "code",
   "execution_count": 37,
   "id": "bd200c96",
   "metadata": {},
   "outputs": [],
   "source": [
    "import numpy as np\n",
    "import pandas as pd\n",
    "import matplotlib.pyplot as plt"
   ]
  },
  {
   "cell_type": "code",
   "execution_count": 38,
   "id": "293102b4",
   "metadata": {},
   "outputs": [],
   "source": [
    "import scipy.linalg as la\n",
    "import scipy.stats as stats\n",
    "import scipy.optimize as opt"
   ]
  },
  {
   "cell_type": "code",
   "execution_count": 39,
   "id": "77a40344",
   "metadata": {},
   "outputs": [],
   "source": [
    "import freqepid"
   ]
  },
  {
   "cell_type": "code",
   "execution_count": 40,
   "id": "676b4602",
   "metadata": {},
   "outputs": [],
   "source": [
    "from tqdm import tqdm"
   ]
  },
  {
   "cell_type": "markdown",
   "id": "ff6ae488",
   "metadata": {},
   "source": [
    "# 1. parameters"
   ]
  },
  {
   "cell_type": "code",
   "execution_count": 41,
   "id": "8407a4af",
   "metadata": {},
   "outputs": [],
   "source": [
    "T = 120\n",
    "T0 = 40"
   ]
  },
  {
   "cell_type": "code",
   "execution_count": 42,
   "id": "c520265e",
   "metadata": {},
   "outputs": [],
   "source": [
    "GPi = np.load('data/GPi.npz')"
   ]
  },
  {
   "cell_type": "markdown",
   "id": "760c7d12",
   "metadata": {},
   "source": [
    "## observation parameters"
   ]
  },
  {
   "cell_type": "code",
   "execution_count": 43,
   "id": "ae431fed",
   "metadata": {},
   "outputs": [],
   "source": [
    "r_Y = 10"
   ]
  },
  {
   "cell_type": "markdown",
   "id": "bce16711",
   "metadata": {},
   "source": [
    "$$Y_t = NegBinom( \\frac{EY_t}{r_Y + EY_t}, r_Y )$$\n",
    "\n",
    "$$ EY_t = \\alpha\\sum_{s=1}^{t-1} I_s \\pi_{t-s} $$"
   ]
  },
  {
   "cell_type": "markdown",
   "id": "1e23dc89",
   "metadata": {},
   "source": [
    "## latent parameters"
   ]
  },
  {
   "cell_type": "code",
   "execution_count": 66,
   "id": "9c096ba4",
   "metadata": {},
   "outputs": [],
   "source": [
    "d = 3\n",
    "betas = np.array([\n",
    "    np.linspace(-np.log(5.5)-0.5, -np.log(5.5)+0.5, 21),     \n",
    "    np.linspace(0, 0, 21),\n",
    "    np.linspace(0, -1, 21),\n",
    "]).T"
   ]
  },
  {
   "cell_type": "code",
   "execution_count": 67,
   "id": "ebd4a5fb",
   "metadata": {},
   "outputs": [],
   "source": [
    "r_I = 10\n",
    "K = 6.5"
   ]
  },
  {
   "cell_type": "markdown",
   "id": "28d46910",
   "metadata": {},
   "source": [
    "$$I_t = NegBinom( \\frac{EI_t}{r_I + EI_t}, r_I )$$\n",
    "\n",
    "$$ EI_t = R(\\bar{A}_t, \\beta) \\sum_{s=1}^{t-1} I_s g_{t-s} $$\n",
    "\n",
    "$$R(\\bar{A}_t, \\beta) = \\frac{K}{1+\\exp(- \\beta^\\top A_t)}$$"
   ]
  },
  {
   "cell_type": "markdown",
   "id": "087ed62b",
   "metadata": {},
   "source": [
    "## seed values"
   ]
  },
  {
   "cell_type": "code",
   "execution_count": 46,
   "id": "3cdc8bb3",
   "metadata": {},
   "outputs": [],
   "source": [
    "mu = np.log(100)"
   ]
  },
  {
   "cell_type": "markdown",
   "id": "0451a962",
   "metadata": {},
   "source": [
    "$$I_{[-T_0,0)} = \\exp(\\mu_0)$$"
   ]
  },
  {
   "cell_type": "markdown",
   "id": "fea372a5",
   "metadata": {},
   "source": [
    "## simulation setting"
   ]
  },
  {
   "cell_type": "code",
   "execution_count": 47,
   "id": "f2b6a772",
   "metadata": {},
   "outputs": [],
   "source": [
    "num_beta = 21\n",
    "num_sim = 100"
   ]
  },
  {
   "cell_type": "markdown",
   "id": "101766c4",
   "metadata": {},
   "source": [
    "# 2. Fit"
   ]
  },
  {
   "cell_type": "code",
   "execution_count": 48,
   "id": "b7047b71",
   "metadata": {},
   "outputs": [],
   "source": [
    "import warnings\n",
    "warnings.simplefilter(action='ignore', category=FutureWarning)"
   ]
  },
  {
   "cell_type": "code",
   "execution_count": 49,
   "id": "6bbcf647",
   "metadata": {},
   "outputs": [],
   "source": [
    "model = freqepid.Model(GPi['g'], [1], 1, K, T0, \"nbinom\")"
   ]
  },
  {
   "cell_type": "code",
   "execution_count": 50,
   "id": "4e7c01e9",
   "metadata": {},
   "outputs": [],
   "source": [
    "nsim = np.zeros((num_beta,num_sim))\n",
    "msim = np.zeros((num_beta,num_sim))\n",
    "bsim = np.zeros((num_beta,num_sim,d))"
   ]
  },
  {
   "cell_type": "code",
   "execution_count": 51,
   "id": "8f8e9871",
   "metadata": {
    "scrolled": false
   },
   "outputs": [
    {
     "name": "stderr",
     "output_type": "stream",
     "text": [
      "SIM: 100%|█████████████████████████████████████| 100/100 [03:34<00:00,  2.14s/it]\n",
      "SIM: 100%|█████████████████████████████████████| 100/100 [03:18<00:00,  1.98s/it]\n",
      "SIM: 100%|█████████████████████████████████████| 100/100 [03:39<00:00,  2.20s/it]\n",
      "SIM: 100%|█████████████████████████████████████| 100/100 [03:08<00:00,  1.88s/it]\n",
      "SIM: 100%|█████████████████████████████████████| 100/100 [03:27<00:00,  2.08s/it]\n",
      "SIM: 100%|█████████████████████████████████████| 100/100 [03:33<00:00,  2.14s/it]\n",
      "SIM: 100%|█████████████████████████████████████| 100/100 [04:14<00:00,  2.55s/it]\n",
      "SIM: 100%|█████████████████████████████████████| 100/100 [03:20<00:00,  2.00s/it]\n",
      "SIM: 100%|█████████████████████████████████████| 100/100 [03:21<00:00,  2.01s/it]\n",
      "SIM: 100%|█████████████████████████████████████| 100/100 [03:17<00:00,  1.98s/it]\n",
      "SIM: 100%|█████████████████████████████████████| 100/100 [03:05<00:00,  1.85s/it]\n",
      "SIM: 100%|█████████████████████████████████████| 100/100 [03:06<00:00,  1.86s/it]\n",
      "SIM: 100%|█████████████████████████████████████| 100/100 [03:26<00:00,  2.07s/it]\n",
      "SIM: 100%|█████████████████████████████████████| 100/100 [03:36<00:00,  2.17s/it]\n",
      "SIM: 100%|█████████████████████████████████████| 100/100 [03:56<00:00,  2.36s/it]\n",
      "SIM: 100%|█████████████████████████████████████| 100/100 [03:37<00:00,  2.18s/it]\n",
      "SIM: 100%|█████████████████████████████████████| 100/100 [05:40<00:00,  3.41s/it]\n",
      "SIM: 100%|█████████████████████████████████████| 100/100 [03:20<00:00,  2.01s/it]\n",
      "SIM: 100%|█████████████████████████████████████| 100/100 [03:19<00:00,  1.99s/it]\n",
      "SIM: 100%|█████████████████████████████████████| 100/100 [04:02<00:00,  2.42s/it]\n",
      "SIM: 100%|█████████████████████████████████████| 100/100 [03:59<00:00,  2.40s/it]\n",
      "beta: 100%|███████████████████████████████████| 21/21 [1:16:08<00:00, 217.57s/it]\n"
     ]
    }
   ],
   "source": [
    "for iter_beta in tqdm(np.arange(num_beta), desc='beta', leave=None, position=0):\n",
    "    data = pd.read_feather('data/simulation_phantom_%.2d.feather'%iter_beta)\n",
    "    \n",
    "    for iter_sim in tqdm(np.arange(num_sim), desc='SIM', leave=None, position=0):\n",
    "        start_sim = time.time()\n",
    "        \n",
    "        data_i = data[data['sim']==iter_sim]\n",
    "        A = np.stack([np.full(T, 1), data_i[\"covariate\"].to_numpy(), \n",
    "                      data_i[\"intervention\"].to_numpy()], -1)\n",
    "        Y = data_i[\"death\"].to_numpy()\n",
    "        \n",
    "        # fit\n",
    "        nmle, mmle, bmle, ll =\\\n",
    "        model.fit(A, Y, n_iter=100, step_size=1,\n",
    "                  history=False, verbose=False)\n",
    "        \n",
    "        nsim[iter_beta,iter_sim] = nmle\n",
    "        msim[iter_beta,iter_sim] = mmle\n",
    "        bsim[iter_beta,iter_sim] = bmle"
   ]
  },
  {
   "cell_type": "code",
   "execution_count": 59,
   "id": "41d57249",
   "metadata": {},
   "outputs": [],
   "source": [
    "np.savez('result_phantom_ML.npz',\n",
    "         nsim = nsim, msim = msim, bsim = bsim)"
   ]
  },
  {
   "cell_type": "markdown",
   "id": "93039638-aa37-44cf-9d87-8df9ae7153fe",
   "metadata": {},
   "source": [
    "# 3. Result"
   ]
  },
  {
   "cell_type": "code",
   "execution_count": 60,
   "id": "ddf38669",
   "metadata": {},
   "outputs": [],
   "source": [
    "result = np.load('result_phantom_ML.npz')\n",
    "bsim = result['bsim']"
   ]
  },
  {
   "cell_type": "code",
   "execution_count": 61,
   "id": "b9d00bb8-9274-424d-bc0c-9538ed09e03f",
   "metadata": {},
   "outputs": [],
   "source": [
    "from matplotlib import ticker"
   ]
  },
  {
   "cell_type": "code",
   "execution_count": 62,
   "id": "9b731d27-6cce-463e-8faa-5c0d59750be4",
   "metadata": {},
   "outputs": [
    {
     "data": {
      "text/plain": [
       "array([ 0.  , -0.05, -0.1 , -0.15, -0.2 , -0.25, -0.3 , -0.35, -0.4 ,\n",
       "       -0.45, -0.5 , -0.55, -0.6 , -0.65, -0.7 , -0.75, -0.8 , -0.85,\n",
       "       -0.9 , -0.95, -1.  ])"
      ]
     },
     "execution_count": 62,
     "metadata": {},
     "output_type": "execute_result"
    }
   ],
   "source": [
    "betas[:,-1]"
   ]
  },
  {
   "cell_type": "code",
   "execution_count": 63,
   "id": "835249ff-f80e-498d-910e-9a1cd4338d83",
   "metadata": {},
   "outputs": [
    {
     "data": {
      "image/png": "[encoded data removed]",
      "text/plain": [
       "<Figure size 640x480 with 1 Axes>"
      ]
     },
     "metadata": {},
     "output_type": "display_data"
    }
   ],
   "source": [
    "plt.boxplot(bsim[:,:,-1].T, positions=betas[:,-1], widths=0.03)\n",
    "plt.plot(betas[:,-1], betas[:,-1], linestyle='--', color='black', label=r'$y=x$')\n",
    "plt.axhline(y=0, linewidth=0.5, color='black')\n",
    "plt.xlim(np.min(betas[:,-1])-0.1, np.max(betas[:,-1])+0.1)\n",
    "plt.xticks(np.linspace(np.min(betas[:,-1]), np.max(betas[:,-1]), 6), \n",
    "           np.linspace(np.min(betas[:,-1]), np.max(betas[:,-1]), 6))\n",
    "plt.gca().xaxis.set_major_formatter(ticker.StrMethodFormatter(\"{x:.2f}\"))\n",
    "plt.ylabel(r'distribution of $\\hat\\beta_A$'); plt.xlabel(r'true $\\beta_A$'); plt.legend()\n",
    "plt.show()"
   ]
  },
  {
   "cell_type": "code",
   "execution_count": 65,
   "id": "8386dea6-318f-4f6f-8a7d-6c37463d05d5",
   "metadata": {},
   "outputs": [
    {
     "data": {
      "image/png": "[encoded data removed]",
      "text/plain": [
       "<Figure size 640x480 with 1 Axes>"
      ]
     },
     "metadata": {},
     "output_type": "display_data"
    }
   ],
   "source": [
    "plt.errorbar(betas[:,-1], np.mean(bsim[:,:,-1], -1), yerr=2*np.std(bsim[:,:,-1],-1)/10, \n",
    "             ecolor='black', capsize=3, fmt=\"o\")\n",
    "plt.plot(betas[:,-1], betas[:,-1], linestyle='--', color='black', label=r'$y=x$')\n",
    "plt.xlim(np.min(betas[:,-1])-0.1, np.max(betas[:,-1])+0.1)\n",
    "plt.xticks(np.linspace(np.min(betas[:,-1]), np.max(betas[:,-1]), 6), \n",
    "           np.linspace(np.min(betas[:,-1]), np.max(betas[:,-1]), 6))\n",
    "plt.gca().xaxis.set_major_formatter(ticker.StrMethodFormatter(\"{x:.2f}\"))\n",
    "plt.xlabel(r'true $\\beta_A$'); plt.ylabel(r'$\\mathbb{E}\\hat\\beta_A$'); plt.legend()\n",
    "plt.show()"
   ]
  },
  {
   "cell_type": "code",
   "execution_count": null,
   "id": "610d0c11",
   "metadata": {},
   "outputs": [],
   "source": []
  }
 ],
 "metadata": {
  "kernelspec": {
   "display_name": "Python [conda env:freqepid]",
   "language": "python",
   "name": "conda-env-freqepid-py"
  },
  "language_info": {
   "codemirror_mode": {
    "name": "ipython",
    "version": 3
   },
   "file_extension": ".py",
   "mimetype": "text/x-python",
   "name": "python",
   "nbconvert_exporter": "python",
   "pygments_lexer": "ipython3",
   "version": "3.12.9"
  }
 },
 "nbformat": 4,
 "nbformat_minor": 5
}
