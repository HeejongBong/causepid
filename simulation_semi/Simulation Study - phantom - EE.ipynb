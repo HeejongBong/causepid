{
 "cells": [
  {
   "cell_type": "code",
   "execution_count": 1,
   "id": "d05c7934",
   "metadata": {},
   "outputs": [],
   "source": [
    "import os, importlib, sys, time"
   ]
  },
  {
   "cell_type": "code",
   "execution_count": 2,
   "id": "bd200c96",
   "metadata": {},
   "outputs": [],
   "source": [
    "import numpy as np\n",
    "import pandas as pd\n",
    "import matplotlib.pyplot as plt"
   ]
  },
  {
   "cell_type": "code",
   "execution_count": 3,
   "id": "293102b4",
   "metadata": {},
   "outputs": [],
   "source": [
    "import scipy.linalg as la\n",
    "import scipy.stats as stats\n",
    "import scipy.optimize as opt"
   ]
  },
  {
   "cell_type": "code",
   "execution_count": 4,
   "id": "ed7b9151-5333-4be4-bebd-47c3cf1d645c",
   "metadata": {},
   "outputs": [],
   "source": [
    "from tqdm import tqdm"
   ]
  },
  {
   "cell_type": "code",
   "execution_count": 5,
   "id": "77a40344",
   "metadata": {},
   "outputs": [],
   "source": [
    "import freqepid"
   ]
  },
  {
   "cell_type": "markdown",
   "id": "ff6ae488",
   "metadata": {},
   "source": [
    "# 1. parameters"
   ]
  },
  {
   "cell_type": "code",
   "execution_count": 6,
   "id": "8407a4af",
   "metadata": {},
   "outputs": [],
   "source": [
    "T = 120\n",
    "T0 = 40"
   ]
  },
  {
   "cell_type": "code",
   "execution_count": 7,
   "id": "c520265e",
   "metadata": {},
   "outputs": [],
   "source": [
    "GPi = np.load('data/GPi.npz')"
   ]
  },
  {
   "cell_type": "markdown",
   "id": "760c7d12",
   "metadata": {},
   "source": [
    "## observation parameters"
   ]
  },
  {
   "cell_type": "code",
   "execution_count": 8,
   "id": "6b46a70b-12d7-42de-8cd8-2aa76b4b45a4",
   "metadata": {},
   "outputs": [],
   "source": [
    "pi = np.zeros(T+T0)\n",
    "# pi[:min(GPi['pi'].shape[0], T+T0)] = GPi['pi'][:min(GPi['pi'].shape[0], T+T0)]\n",
    "pi[0] = 1"
   ]
  },
  {
   "cell_type": "markdown",
   "id": "bce16711",
   "metadata": {},
   "source": [
    "$$Y_t = NegBinom( \\frac{EY_t}{r_Y + EY_t}, r_Y )$$\n",
    "\n",
    "$$ EY_t = \\alpha\\sum_{s=1}^{t-1} I_s \\pi_{t-s} $$"
   ]
  },
  {
   "cell_type": "markdown",
   "id": "1e23dc89",
   "metadata": {},
   "source": [
    "## latent parameters"
   ]
  },
  {
   "cell_type": "code",
   "execution_count": 9,
   "id": "50e9104a-ccf9-480c-9d11-e5259638b98b",
   "metadata": {},
   "outputs": [],
   "source": [
    "g = np.zeros(T+T0)\n",
    "g[:min(GPi['g'].shape[0], T+T0)] = GPi['g'][:min(GPi['g'].shape[0], T+T0)]"
   ]
  },
  {
   "cell_type": "code",
   "execution_count": 21,
   "id": "5016a39c-1143-4f1f-91e8-7aece677f911",
   "metadata": {},
   "outputs": [],
   "source": [
    "d = 2\n",
    "betas = np.array([\n",
    "    np.linspace(-np.log(5.5)-0.5, -np.log(5.5)+0.5, 21),     \n",
    "    np.linspace(0, -1, 21),\n",
    "]).T"
   ]
  },
  {
   "cell_type": "code",
   "execution_count": 22,
   "id": "ebd4a5fb",
   "metadata": {},
   "outputs": [],
   "source": [
    "r_I = 10\n",
    "K = 6.5\n",
    "sigma_x = 0.3"
   ]
  },
  {
   "cell_type": "markdown",
   "id": "28d46910",
   "metadata": {},
   "source": [
    "$$I_t = NegBinom( \\frac{EI_t}{r_I + EI_t}, r_I )$$\n",
    "\n",
    "$$ EI_t = R(\\bar{A}_t, \\beta) \\sum_{s=1}^{t-1} I_s g_{t-s} $$\n",
    "\n",
    "$$R(\\bar{A}_t, \\beta) = \\frac{K}{1+\\exp(- \\beta^\\top A_t)}$$"
   ]
  },
  {
   "cell_type": "markdown",
   "id": "087ed62b",
   "metadata": {},
   "source": [
    "## seed values"
   ]
  },
  {
   "cell_type": "code",
   "execution_count": 23,
   "id": "3cdc8bb3",
   "metadata": {},
   "outputs": [],
   "source": [
    "mu = np.log(100)"
   ]
  },
  {
   "cell_type": "markdown",
   "id": "0451a962",
   "metadata": {},
   "source": [
    "$$I_{[-T_0,0)} = \\exp(\\mu_0)$$"
   ]
  },
  {
   "cell_type": "markdown",
   "id": "fea372a5",
   "metadata": {},
   "source": [
    "## simulation setting"
   ]
  },
  {
   "cell_type": "code",
   "execution_count": 24,
   "id": "f2b6a772",
   "metadata": {},
   "outputs": [],
   "source": [
    "num_beta = 21\n",
    "num_sim = 100"
   ]
  },
  {
   "cell_type": "markdown",
   "id": "101766c4",
   "metadata": {},
   "source": [
    "# 2. Fit"
   ]
  },
  {
   "cell_type": "code",
   "execution_count": 25,
   "id": "2987ee5a-2734-4dc0-8248-456f7e049ba6",
   "metadata": {},
   "outputs": [],
   "source": [
    "from sklearn.linear_model import LinearRegression, LogisticRegression"
   ]
  },
  {
   "cell_type": "code",
   "execution_count": 26,
   "id": "33dc9c3e-e6cb-4412-a14a-d520bbc41335",
   "metadata": {},
   "outputs": [],
   "source": [
    "import warnings\n",
    "warnings.simplefilter(action='ignore', category=FutureWarning)"
   ]
  },
  {
   "cell_type": "code",
   "execution_count": 27,
   "id": "992fa34a-0312-492a-8835-7f446e30ef59",
   "metadata": {},
   "outputs": [],
   "source": [
    "lamda = 0.1\n",
    "num_iter = 100"
   ]
  },
  {
   "cell_type": "code",
   "execution_count": 28,
   "id": "6bbcf647",
   "metadata": {},
   "outputs": [],
   "source": [
    "model = freqepid.Model(GPi['g'], [1], 1, K, T0, \"nbinom\")"
   ]
  },
  {
   "cell_type": "code",
   "execution_count": 29,
   "id": "ae32c07c-fab8-4b29-9eb4-e19681fa2f7a",
   "metadata": {},
   "outputs": [],
   "source": [
    "Pi = np.concatenate([[0],pi])[np.maximum(0, np.arange(T)[:,None] - np.arange(T))]\n",
    "Pi0 = np.concatenate([[0],pi])[np.maximum(0, np.arange(T)[:,None] - np.arange(-T0,0))]"
   ]
  },
  {
   "cell_type": "code",
   "execution_count": 30,
   "id": "646d6dea-a94e-4fe2-8be0-e5a1ecf8bca9",
   "metadata": {},
   "outputs": [],
   "source": [
    "G = np.concatenate([[0],g])[np.maximum(0, np.arange(T)[:,None] - np.arange(T))]\n",
    "G0 = np.concatenate([[0],g])[np.maximum(0, np.arange(T)[:,None] - np.arange(-T0,0))]"
   ]
  },
  {
   "cell_type": "code",
   "execution_count": 31,
   "id": "4e7c01e9",
   "metadata": {},
   "outputs": [],
   "source": [
    "bsim = np.zeros((num_beta,num_sim,d))"
   ]
  },
  {
   "cell_type": "code",
   "execution_count": 32,
   "id": "8f8e9871",
   "metadata": {},
   "outputs": [
    {
     "data": {
      "application/vnd.jupyter.widget-view+json": {
       "model_id": "bef2c9ac9106479bba782a3bfa3aac65",
       "version_major": 2,
       "version_minor": 0
      },
      "text/plain": [
       "beta:   0%|          | 0/21 [00:00<?, ?it/s]"
      ]
     },
     "metadata": {},
     "output_type": "display_data"
    },
    {
     "data": {
      "application/vnd.jupyter.widget-view+json": {
       "model_id": "",
       "version_major": 2,
       "version_minor": 0
      },
      "text/plain": [
       "SIM:   0%|          | 0/100 [00:00<?, ?it/s]"
      ]
     },
     "metadata": {},
     "output_type": "display_data"
    },
    {
     "data": {
      "application/vnd.jupyter.widget-view+json": {
       "model_id": "",
       "version_major": 2,
       "version_minor": 0
      },
      "text/plain": [
       "SIM:   0%|          | 0/100 [00:00<?, ?it/s]"
      ]
     },
     "metadata": {},
     "output_type": "display_data"
    },
    {
     "data": {
      "application/vnd.jupyter.widget-view+json": {
       "model_id": "",
       "version_major": 2,
       "version_minor": 0
      },
      "text/plain": [
       "SIM:   0%|          | 0/100 [00:00<?, ?it/s]"
      ]
     },
     "metadata": {},
     "output_type": "display_data"
    },
    {
     "data": {
      "application/vnd.jupyter.widget-view+json": {
       "model_id": "",
       "version_major": 2,
       "version_minor": 0
      },
      "text/plain": [
       "SIM:   0%|          | 0/100 [00:00<?, ?it/s]"
      ]
     },
     "metadata": {},
     "output_type": "display_data"
    },
    {
     "data": {
      "application/vnd.jupyter.widget-view+json": {
       "model_id": "",
       "version_major": 2,
       "version_minor": 0
      },
      "text/plain": [
       "SIM:   0%|          | 0/100 [00:00<?, ?it/s]"
      ]
     },
     "metadata": {},
     "output_type": "display_data"
    },
    {
     "data": {
      "application/vnd.jupyter.widget-view+json": {
       "model_id": "",
       "version_major": 2,
       "version_minor": 0
      },
      "text/plain": [
       "SIM:   0%|          | 0/100 [00:00<?, ?it/s]"
      ]
     },
     "metadata": {},
     "output_type": "display_data"
    },
    {
     "data": {
      "application/vnd.jupyter.widget-view+json": {
       "model_id": "",
       "version_major": 2,
       "version_minor": 0
      },
      "text/plain": [
       "SIM:   0%|          | 0/100 [00:00<?, ?it/s]"
      ]
     },
     "metadata": {},
     "output_type": "display_data"
    },
    {
     "data": {
      "application/vnd.jupyter.widget-view+json": {
       "model_id": "",
       "version_major": 2,
       "version_minor": 0
      },
      "text/plain": [
       "SIM:   0%|          | 0/100 [00:00<?, ?it/s]"
      ]
     },
     "metadata": {},
     "output_type": "display_data"
    },
    {
     "data": {
      "application/vnd.jupyter.widget-view+json": {
       "model_id": "",
       "version_major": 2,
       "version_minor": 0
      },
      "text/plain": [
       "SIM:   0%|          | 0/100 [00:00<?, ?it/s]"
      ]
     },
     "metadata": {},
     "output_type": "display_data"
    },
    {
     "data": {
      "application/vnd.jupyter.widget-view+json": {
       "model_id": "",
       "version_major": 2,
       "version_minor": 0
      },
      "text/plain": [
       "SIM:   0%|          | 0/100 [00:00<?, ?it/s]"
      ]
     },
     "metadata": {},
     "output_type": "display_data"
    },
    {
     "data": {
      "application/vnd.jupyter.widget-view+json": {
       "model_id": "",
       "version_major": 2,
       "version_minor": 0
      },
      "text/plain": [
       "SIM:   0%|          | 0/100 [00:00<?, ?it/s]"
      ]
     },
     "metadata": {},
     "output_type": "display_data"
    },
    {
     "data": {
      "application/vnd.jupyter.widget-view+json": {
       "model_id": "",
       "version_major": 2,
       "version_minor": 0
      },
      "text/plain": [
       "SIM:   0%|          | 0/100 [00:00<?, ?it/s]"
      ]
     },
     "metadata": {},
     "output_type": "display_data"
    },
    {
     "data": {
      "application/vnd.jupyter.widget-view+json": {
       "model_id": "",
       "version_major": 2,
       "version_minor": 0
      },
      "text/plain": [
       "SIM:   0%|          | 0/100 [00:00<?, ?it/s]"
      ]
     },
     "metadata": {},
     "output_type": "display_data"
    },
    {
     "data": {
      "application/vnd.jupyter.widget-view+json": {
       "model_id": "",
       "version_major": 2,
       "version_minor": 0
      },
      "text/plain": [
       "SIM:   0%|          | 0/100 [00:00<?, ?it/s]"
      ]
     },
     "metadata": {},
     "output_type": "display_data"
    },
    {
     "data": {
      "application/vnd.jupyter.widget-view+json": {
       "model_id": "",
       "version_major": 2,
       "version_minor": 0
      },
      "text/plain": [
       "SIM:   0%|          | 0/100 [00:00<?, ?it/s]"
      ]
     },
     "metadata": {},
     "output_type": "display_data"
    },
    {
     "data": {
      "application/vnd.jupyter.widget-view+json": {
       "model_id": "",
       "version_major": 2,
       "version_minor": 0
      },
      "text/plain": [
       "SIM:   0%|          | 0/100 [00:00<?, ?it/s]"
      ]
     },
     "metadata": {},
     "output_type": "display_data"
    },
    {
     "data": {
      "application/vnd.jupyter.widget-view+json": {
       "model_id": "",
       "version_major": 2,
       "version_minor": 0
      },
      "text/plain": [
       "SIM:   0%|          | 0/100 [00:00<?, ?it/s]"
      ]
     },
     "metadata": {},
     "output_type": "display_data"
    },
    {
     "data": {
      "application/vnd.jupyter.widget-view+json": {
       "model_id": "",
       "version_major": 2,
       "version_minor": 0
      },
      "text/plain": [
       "SIM:   0%|          | 0/100 [00:00<?, ?it/s]"
      ]
     },
     "metadata": {},
     "output_type": "display_data"
    },
    {
     "data": {
      "application/vnd.jupyter.widget-view+json": {
       "model_id": "",
       "version_major": 2,
       "version_minor": 0
      },
      "text/plain": [
       "SIM:   0%|          | 0/100 [00:00<?, ?it/s]"
      ]
     },
     "metadata": {},
     "output_type": "display_data"
    },
    {
     "data": {
      "application/vnd.jupyter.widget-view+json": {
       "model_id": "",
       "version_major": 2,
       "version_minor": 0
      },
      "text/plain": [
       "SIM:   0%|          | 0/100 [00:00<?, ?it/s]"
      ]
     },
     "metadata": {},
     "output_type": "display_data"
    },
    {
     "data": {
      "application/vnd.jupyter.widget-view+json": {
       "model_id": "",
       "version_major": 2,
       "version_minor": 0
      },
      "text/plain": [
       "SIM:   0%|          | 0/100 [00:00<?, ?it/s]"
      ]
     },
     "metadata": {},
     "output_type": "display_data"
    }
   ],
   "source": [
    "for iter_beta in tqdm(np.arange(num_beta), desc='beta', leave=None, position=0):\n",
    "    data = pd.read_feather('data/simulation_phantom_%.2d.feather'%iter_beta)\n",
    "    \n",
    "    for iter_sim in tqdm(np.arange(num_sim), desc='SIM', leave=None, position=0):\n",
    "        # start_sim = time.time()\n",
    "        \n",
    "        data_i = data[data['sim']==iter_sim]\n",
    "\n",
    "        # estimation of pi\n",
    "        X_pi = np.stack([data_i.iloc[1:,3], data_i.iloc[:-1,5], data_i.iloc[:-1,8]], -1)\n",
    "        Y_pi = np.array(data_i.iloc[1:,5])\n",
    "        pi_fit = LogisticRegression(penalty=None).fit(X_pi, Y_pi)\n",
    "        ghat = np.concatenate([pi_fit.intercept_, pi_fit.coef_[0]])\n",
    "\n",
    "        X_varpi = data_i.iloc[:-1,5:6]\n",
    "        varpi_fit = LogisticRegression(penalty=None).fit(X_varpi, Y_pi)\n",
    "\n",
    "        # estimation of px\n",
    "#         X_px = np.stack([data_i.iloc[:-1,3], data_i.iloc[:-1,5], \n",
    "#                          # data_i.iloc[:-1,8]\n",
    "#                         ], -1)\n",
    "#         Y_px = np.array(data_i.iloc[1:,3])\n",
    "#         px_fit = LinearRegression().fit(X_px, Y_px)\n",
    "#         ahat = np.concatenate([[px_fit.intercept_], px_fit.coef_, [0]])\n",
    "#         shat_x = np.sqrt(np.mean((Y_px - px_fit.predict(X_px))**2))\n",
    "\n",
    "        # estimation of mu\n",
    "        ## initialization\n",
    "        X_mu = np.stack([\n",
    "            np.full(T, 1),\n",
    "            data_i[\"intervention\"].to_numpy()\n",
    "        ], -1)\n",
    "        Y_mu = data_i[\"death\"].to_numpy()\n",
    "        \n",
    "        nmle, mmle, bmle, ll =\\\n",
    "        model.fit(X_mu, Y_mu, n_iter=100, step_size=1,\n",
    "                  history=False, verbose=False)\n",
    "\n",
    "        bhat = bmle\n",
    "        I0 = np.full(T0, np.exp(mmle))\n",
    "        A = data_i[\"intervention\"].to_numpy()\n",
    "        I = data_i[\"infection\"].to_numpy()\n",
    "\n",
    "        ws = varpi_fit.predict_proba(X_varpi)[np.arange(T-1),Y_pi.astype(int)] \\\n",
    "             / pi_fit.predict_proba(X_pi)[np.arange(T-1),Y_pi.astype(int)]\n",
    "        Ws = np.cumprod(np.concatenate([[1], ws], -1), -1)\n",
    "        hs = np.stack([\n",
    "            np.full(T, 1),\n",
    "            A - np.concatenate([[0], varpi_fit.predict_proba(X_varpi)[np.arange(T-1),Y_pi.astype(int)]]),\n",
    "        ])\n",
    "\n",
    "        for i in np.arange(num_iter):\n",
    "            XAs_MC = X_mu\n",
    "    \n",
    "            R_MC = K / (1 + np.exp(- XAs_MC @ bhat))\n",
    "            dRdb_MC = (R_MC * (1 - R_MC/K))[...,None] * XAs_MC\n",
    "\n",
    "            L_MC = R_MC[:,None] * G\n",
    "            L0_MC = R_MC[:,None] * G0\n",
    "\n",
    "            dLdb_MC = dRdb_MC[...,None,:] * G[...,None]\n",
    "            dL0db_MC = dRdb_MC[...,None,:] * G0[...,None]\n",
    "\n",
    "            inv_ImL = la.inv(np.eye(T)-L_MC) \n",
    "\n",
    "            EI_MC = inv_ImL @ (L0_MC @ I0)\n",
    "            dEIdb_MC = inv_ImL @ (\n",
    "                np.sum(dLdb_MC * EI_MC[:,None], -2)\n",
    "                + np.sum(dL0db_MC * I0[:,None], -2)\n",
    "            )\n",
    "\n",
    "            phi = EI_MC\n",
    "            dphidb = dEIdb_MC\n",
    "        \n",
    "            EE = np.sum((I - phi) * hs * Ws, -1)\n",
    "            dEEdb = np.sum(- dphidb * (hs * Ws)[...,None], -2)\n",
    "            db = np.linalg.lstsq(dEEdb, EE)[0]\n",
    "            db = db / np.maximum(1, np.sqrt(np.sum(db**2)))\n",
    "            bhat = bhat - lamda * db\n",
    "\n",
    "        bsim[iter_beta, iter_sim] = bhat\n",
    "        \n",
    "        # sys.__stdout__.write(\"%d-%d-th simulation finished, %f sec.\\n\"\n",
    "        #                      %(iter_beta+1, iter_sim+1, time.time()-start_sim))\n",
    "        # sys.__stdout__.flush()"
   ]
  },
  {
   "cell_type": "code",
   "execution_count": 33,
   "id": "41d57249",
   "metadata": {},
   "outputs": [],
   "source": [
    "np.savez('result_phantom_EE.npz', bsim = bsim)"
   ]
  },
  {
   "cell_type": "markdown",
   "id": "93039638-aa37-44cf-9d87-8df9ae7153fe",
   "metadata": {},
   "source": [
    "# 3. Result"
   ]
  },
  {
   "cell_type": "code",
   "execution_count": 35,
   "id": "06b8d6f0",
   "metadata": {},
   "outputs": [],
   "source": [
    "result = np.load('result_phantom_EE.npz')\n",
    "bsim = result['bsim']"
   ]
  },
  {
   "cell_type": "code",
   "execution_count": 36,
   "id": "b9d00bb8-9274-424d-bc0c-9538ed09e03f",
   "metadata": {},
   "outputs": [],
   "source": [
    "from matplotlib import ticker"
   ]
  },
  {
   "cell_type": "code",
   "execution_count": 37,
   "id": "9b731d27-6cce-463e-8faa-5c0d59750be4",
   "metadata": {},
   "outputs": [
    {
     "data": {
      "text/plain": [
       "array([ 0.  , -0.05, -0.1 , -0.15, -0.2 , -0.25, -0.3 , -0.35, -0.4 ,\n",
       "       -0.45, -0.5 , -0.55, -0.6 , -0.65, -0.7 , -0.75, -0.8 , -0.85,\n",
       "       -0.9 , -0.95, -1.  ])"
      ]
     },
     "execution_count": 37,
     "metadata": {},
     "output_type": "execute_result"
    }
   ],
   "source": [
    "betas[:,-1]"
   ]
  },
  {
   "cell_type": "code",
   "execution_count": 38,
   "id": "835249ff-f80e-498d-910e-9a1cd4338d83",
   "metadata": {},
   "outputs": [
    {
     "data": {
      "image/png": "[encoded data removed]",
      "text/plain": [
       "<Figure size 640x480 with 1 Axes>"
      ]
     },
     "metadata": {},
     "output_type": "display_data"
    }
   ],
   "source": [
    "plt.boxplot(bsim[:,:,-1].T, positions=betas[:,-1], widths=0.03)\n",
    "plt.plot(betas[:,-1], betas[:,-1], linestyle='--', color='black', label=r'$y=x$')\n",
    "plt.axhline(y=0, linewidth=0.5, color='black')\n",
    "plt.xlim(np.min(betas[:,-1])-0.1, np.max(betas[:,-1])+0.1)\n",
    "plt.xticks(np.linspace(np.min(betas[:,-1]), np.max(betas[:,-1]), 6), \n",
    "           np.linspace(np.min(betas[:,-1]), np.max(betas[:,-1]), 6))\n",
    "plt.gca().xaxis.set_major_formatter(ticker.StrMethodFormatter(\"{x:.2f}\"))\n",
    "plt.ylabel(r'distribution of $\\hat\\beta_A$'); plt.xlabel(r'true $\\beta_A$'); plt.legend()\n",
    "plt.show()"
   ]
  },
  {
   "cell_type": "code",
   "execution_count": 40,
   "id": "12e5838a",
   "metadata": {},
   "outputs": [
    {
     "data": {
      "image/png": "[encoded data removed]",
      "text/plain": [
       "<Figure size 640x480 with 1 Axes>"
      ]
     },
     "metadata": {},
     "output_type": "display_data"
    }
   ],
   "source": [
    "plt.errorbar(betas[:,-1], np.mean(bsim[:,:,-1], -1), yerr=2*np.std(bsim[:,:,-1],-1)/10, \n",
    "             ecolor='black', capsize=3, fmt=\"o\")\n",
    "plt.plot(betas[:,-1], betas[:,-1], linestyle='--', color='black', label=r'$y=x$')\n",
    "plt.xlim(np.min(betas[:,-1])-0.1, np.max(betas[:,-1])+0.1)\n",
    "plt.xticks(np.linspace(np.min(betas[:,-1]), np.max(betas[:,-1]), 6), \n",
    "           np.linspace(np.min(betas[:,-1]), np.max(betas[:,-1]), 6))\n",
    "plt.gca().xaxis.set_major_formatter(ticker.StrMethodFormatter(\"{x:.2f}\"))\n",
    "plt.xlabel(r'true $\\beta_A$'); plt.ylabel(r'$\\mathbb{E}\\hat\\beta_A$'); plt.legend()\n",
    "plt.show()"
   ]
  },
  {
   "cell_type": "code",
   "execution_count": null,
   "id": "b5d0f20e",
   "metadata": {},
   "outputs": [],
   "source": []
  }
 ],
 "metadata": {
  "kernelspec": {
   "display_name": "Python [conda env:freqepid]",
   "language": "python",
   "name": "conda-env-freqepid-py"
  },
  "language_info": {
   "codemirror_mode": {
    "name": "ipython",
    "version": 3
   },
   "file_extension": ".py",
   "mimetype": "text/x-python",
   "name": "python",
   "nbconvert_exporter": "python",
   "pygments_lexer": "ipython3",
   "version": "3.12.9"
  }
 },
 "nbformat": 4,
 "nbformat_minor": 5
}
